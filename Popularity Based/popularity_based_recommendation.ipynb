{
 "cells": [
  {
   "cell_type": "markdown",
   "id": "3c74c5b1",
   "metadata": {},
   "source": [
    "# Recommendation System"
   ]
  },
  {
   "cell_type": "markdown",
   "id": "86cb5385",
   "metadata": {},
   "source": [
    "There are 6 types of Recommendation Systems:\n",
    "\n",
    "1. **Popularity Based Recommendation System** - This looks at the highest number of views and likes of each product and returns the product accrodingly. This is not a personal recommendation system.\n",
    "\n",
    "\n",
    "2. **Classification Model Based** - This includes understanding the features of the user and then finding the Item based on the User's features/preferences. This is a personalized recommendation system.\n",
    "\n",
    "\n",
    "3. **Content Based** - This is dependent on the content of the item and not the user's input. The idea is that if a user likes Product A, then he would also like Product B given that Product A and Product B are similar. Hence, Product B is found using this type of recommendation system.\n",
    "\n",
    "\n",
    "4. **Collaborative Filtering** - This method involves recommending a user a product based on what other users similar to this particular users like. It uses a collective pattern/behaviour to analyse the preferences and recommend the products accordingly.\n",
    "\n",
    "\n",
    "5. **Association Rule Mining** - Captures the relationship between items and based on their transaction patterns.\n",
    "\n",
    "\n",
    "6. **Hybrid Approaches**"
   ]
  },
  {
   "cell_type": "markdown",
   "id": "2a287f0c",
   "metadata": {},
   "source": [
    "## Imports and Installations"
   ]
  },
  {
   "cell_type": "code",
   "execution_count": 22,
   "id": "5e29c6eb",
   "metadata": {},
   "outputs": [],
   "source": [
    "import pandas as pd\n",
    "import numpy as np\n",
    "import seaborn as sb\n",
    "import matplotlib.pyplot as plt\n",
    "\n",
    "#Ignore Warnings\n",
    "import warnings\n",
    "\n",
    "# Ignore all warnings\n",
    "warnings.filterwarnings(\"ignore\")"
   ]
  },
  {
   "cell_type": "markdown",
   "id": "1d80c495",
   "metadata": {},
   "source": [
    "## Loading the Dataset"
   ]
  },
  {
   "cell_type": "code",
   "execution_count": 23,
   "id": "078e0214",
   "metadata": {},
   "outputs": [
    {
     "data": {
      "text/html": [
       "<div>\n",
       "<style scoped>\n",
       "    .dataframe tbody tr th:only-of-type {\n",
       "        vertical-align: middle;\n",
       "    }\n",
       "\n",
       "    .dataframe tbody tr th {\n",
       "        vertical-align: top;\n",
       "    }\n",
       "\n",
       "    .dataframe thead th {\n",
       "        text-align: right;\n",
       "    }\n",
       "</style>\n",
       "<table border=\"1\" class=\"dataframe\">\n",
       "  <thead>\n",
       "    <tr style=\"text-align: right;\">\n",
       "      <th></th>\n",
       "      <th>userId</th>\n",
       "      <th>productId</th>\n",
       "      <th>Rating</th>\n",
       "      <th>timestamp</th>\n",
       "    </tr>\n",
       "  </thead>\n",
       "  <tbody>\n",
       "    <tr>\n",
       "      <th>0</th>\n",
       "      <td>AKM1MP6P0OYPR</td>\n",
       "      <td>0132793040</td>\n",
       "      <td>5.0</td>\n",
       "      <td>1365811200</td>\n",
       "    </tr>\n",
       "    <tr>\n",
       "      <th>1</th>\n",
       "      <td>A2CX7LUOHB2NDG</td>\n",
       "      <td>0321732944</td>\n",
       "      <td>5.0</td>\n",
       "      <td>1341100800</td>\n",
       "    </tr>\n",
       "    <tr>\n",
       "      <th>2</th>\n",
       "      <td>A2NWSAGRHCP8N5</td>\n",
       "      <td>0439886341</td>\n",
       "      <td>1.0</td>\n",
       "      <td>1367193600</td>\n",
       "    </tr>\n",
       "    <tr>\n",
       "      <th>3</th>\n",
       "      <td>A2WNBOD3WNDNKT</td>\n",
       "      <td>0439886341</td>\n",
       "      <td>3.0</td>\n",
       "      <td>1374451200</td>\n",
       "    </tr>\n",
       "    <tr>\n",
       "      <th>4</th>\n",
       "      <td>A1GI0U4ZRJA8WN</td>\n",
       "      <td>0439886341</td>\n",
       "      <td>1.0</td>\n",
       "      <td>1334707200</td>\n",
       "    </tr>\n",
       "  </tbody>\n",
       "</table>\n",
       "</div>"
      ],
      "text/plain": [
       "           userId   productId  Rating   timestamp\n",
       "0   AKM1MP6P0OYPR  0132793040     5.0  1365811200\n",
       "1  A2CX7LUOHB2NDG  0321732944     5.0  1341100800\n",
       "2  A2NWSAGRHCP8N5  0439886341     1.0  1367193600\n",
       "3  A2WNBOD3WNDNKT  0439886341     3.0  1374451200\n",
       "4  A1GI0U4ZRJA8WN  0439886341     1.0  1334707200"
      ]
     },
     "execution_count": 23,
     "metadata": {},
     "output_type": "execute_result"
    }
   ],
   "source": [
    "df = pd.read_csv('ratings_Electronics.csv', names=['userId', 'productId','Rating','timestamp'])\n",
    "df.head()"
   ]
  },
  {
   "cell_type": "markdown",
   "id": "00100b5b",
   "metadata": {},
   "source": [
    "## Preliminary Dataset Information"
   ]
  },
  {
   "cell_type": "code",
   "execution_count": 24,
   "id": "68561df7",
   "metadata": {},
   "outputs": [
    {
     "data": {
      "text/plain": [
       "(7824482, 4)"
      ]
     },
     "execution_count": 24,
     "metadata": {},
     "output_type": "execute_result"
    }
   ],
   "source": [
    "#shape of the dataset\n",
    "df.shape"
   ]
  },
  {
   "cell_type": "markdown",
   "id": "1163ee05",
   "metadata": {},
   "source": [
    "Therefore, this dataset has 7,824,482 samples."
   ]
  },
  {
   "cell_type": "code",
   "execution_count": 25,
   "id": "77507b1a",
   "metadata": {},
   "outputs": [
    {
     "name": "stdout",
     "output_type": "stream",
     "text": [
      "<class 'pandas.core.frame.DataFrame'>\n",
      "RangeIndex: 7824482 entries, 0 to 7824481\n",
      "Data columns (total 4 columns):\n",
      " #   Column     Dtype  \n",
      "---  ------     -----  \n",
      " 0   userId     object \n",
      " 1   productId  object \n",
      " 2   Rating     float64\n",
      " 3   timestamp  int64  \n",
      "dtypes: float64(1), int64(1), object(2)\n",
      "memory usage: 238.8+ MB\n"
     ]
    }
   ],
   "source": [
    "#Getting the datatype information of the dataset\n",
    "df.info()"
   ]
  },
  {
   "cell_type": "markdown",
   "id": "dabb7a7f",
   "metadata": {},
   "source": [
    "Object data type refers to a string. So it performs String operations, instead of Mathematical Operations."
   ]
  },
  {
   "cell_type": "code",
   "execution_count": 26,
   "id": "356571ab",
   "metadata": {},
   "outputs": [
    {
     "data": {
      "text/plain": [
       "count    7.824482e+06\n",
       "mean     4.012337e+00\n",
       "std      1.380910e+00\n",
       "min      1.000000e+00\n",
       "25%      3.000000e+00\n",
       "50%      5.000000e+00\n",
       "75%      5.000000e+00\n",
       "max      5.000000e+00\n",
       "Name: Rating, dtype: float64"
      ]
     },
     "execution_count": 26,
     "metadata": {},
     "output_type": "execute_result"
    }
   ],
   "source": [
    "df_stats = df.describe()['Rating'].T\n",
    "df_stats"
   ]
  },
  {
   "cell_type": "code",
   "execution_count": 27,
   "id": "5c7604b5",
   "metadata": {},
   "outputs": [
    {
     "name": "stdout",
     "output_type": "stream",
     "text": [
      "Lowest Rating: 1.0\n",
      "Highest Rating: 5.0\n",
      "Average Rating: 4.012\n"
     ]
    }
   ],
   "source": [
    "LOWEST_RATING, HIGHEST_RATING, AVG_RATING = df_stats['min'], df_stats['max'], df_stats['mean']\n",
    "\n",
    "print(f\"Lowest Rating: {LOWEST_RATING}\")\n",
    "print(f\"Highest Rating: {HIGHEST_RATING}\")\n",
    "print(f\"Average Rating: {AVG_RATING:.3f}\")"
   ]
  },
  {
   "cell_type": "markdown",
   "id": "8648befb",
   "metadata": {},
   "source": [
    "## Data Cleaning\n",
    "\n",
    "\n",
    "This includes handling Missing values and accounting for any outliers or any data sample that does not make sense according to the domain knowledge. In this case, since the rating is between 1.0 - 5.0 as it should be, we can conclude that there are no outliers in the rating column.\n",
    "\n",
    "Hence, the only Data Cleaning step to do at this stage is to check and remove Null Values."
   ]
  },
  {
   "cell_type": "markdown",
   "id": "7a97c478",
   "metadata": {},
   "source": [
    "### Check and Handling Missing Values"
   ]
  },
  {
   "cell_type": "code",
   "execution_count": 28,
   "id": "d89d26b0",
   "metadata": {},
   "outputs": [
    {
     "name": "stdout",
     "output_type": "stream",
     "text": [
      "Number of Missing Values in each Column:\n",
      "userId       0\n",
      "productId    0\n",
      "Rating       0\n",
      "timestamp    0\n",
      "dtype: int64\n"
     ]
    }
   ],
   "source": [
    "print(f\"Number of Missing Values in each Column:\\n{df.isnull().sum()}\")"
   ]
  },
  {
   "cell_type": "markdown",
   "id": "87d8649f",
   "metadata": {},
   "source": [
    "Therefore, there are no Null values present in the dataset."
   ]
  },
  {
   "cell_type": "markdown",
   "id": "263dca17",
   "metadata": {},
   "source": [
    "## Popularity Based Recommendation System\n",
    "\n",
    "This is a Brute Force approach where the products that have the highest engagement and popularity are returned. The metric to guage the engagement and popularity of a product ca be the **number of reviews** of a product, **regardless of whether the reviews are positive or negative**.\n",
    "\n",
    "In this case we will be returning the **Top 10 products.**"
   ]
  },
  {
   "cell_type": "markdown",
   "id": "b5405b8d",
   "metadata": {},
   "source": [
    "### Filtering out all the productId with the Highest Number of Reviews"
   ]
  },
  {
   "cell_type": "code",
   "execution_count": 29,
   "id": "2be27b5f",
   "metadata": {},
   "outputs": [
    {
     "data": {
      "text/plain": [
       "['B0074BW614',\n",
       " 'B00DR0PDNE',\n",
       " 'B007WTAJTO',\n",
       " 'B0019EHU8G',\n",
       " 'B006GWO5WK',\n",
       " 'B003ELYQGG',\n",
       " 'B003ES5ZUU',\n",
       " 'B007R5YDYA',\n",
       " 'B00622AG6S',\n",
       " 'B0002L5R78']"
      ]
     },
     "execution_count": 29,
     "metadata": {},
     "output_type": "execute_result"
    }
   ],
   "source": [
    "NUM = 10\n",
    "popularity_final = df['productId'].value_counts()[:NUM].index.tolist()\n",
    "popularity_final"
   ]
  },
  {
   "cell_type": "markdown",
   "id": "18a36cc3",
   "metadata": {},
   "source": [
    "### Visualizing the Most Popular Top 10 Products"
   ]
  },
  {
   "cell_type": "code",
   "execution_count": 30,
   "id": "b90eefdf",
   "metadata": {},
   "outputs": [
    {
     "data": {
      "text/html": [
       "<div>\n",
       "<style scoped>\n",
       "    .dataframe tbody tr th:only-of-type {\n",
       "        vertical-align: middle;\n",
       "    }\n",
       "\n",
       "    .dataframe tbody tr th {\n",
       "        vertical-align: top;\n",
       "    }\n",
       "\n",
       "    .dataframe thead th {\n",
       "        text-align: right;\n",
       "    }\n",
       "</style>\n",
       "<table border=\"1\" class=\"dataframe\">\n",
       "  <thead>\n",
       "    <tr style=\"text-align: right;\">\n",
       "      <th></th>\n",
       "      <th>productId</th>\n",
       "      <th>Rating</th>\n",
       "    </tr>\n",
       "  </thead>\n",
       "  <tbody>\n",
       "    <tr>\n",
       "      <th>483804</th>\n",
       "      <td>B0002L5R78</td>\n",
       "      <td>5.0</td>\n",
       "    </tr>\n",
       "    <tr>\n",
       "      <th>483805</th>\n",
       "      <td>B0002L5R78</td>\n",
       "      <td>5.0</td>\n",
       "    </tr>\n",
       "    <tr>\n",
       "      <th>483806</th>\n",
       "      <td>B0002L5R78</td>\n",
       "      <td>5.0</td>\n",
       "    </tr>\n",
       "    <tr>\n",
       "      <th>483807</th>\n",
       "      <td>B0002L5R78</td>\n",
       "      <td>3.0</td>\n",
       "    </tr>\n",
       "    <tr>\n",
       "      <th>483808</th>\n",
       "      <td>B0002L5R78</td>\n",
       "      <td>5.0</td>\n",
       "    </tr>\n",
       "    <tr>\n",
       "      <th>...</th>\n",
       "      <td>...</td>\n",
       "      <td>...</td>\n",
       "    </tr>\n",
       "    <tr>\n",
       "      <th>7448717</th>\n",
       "      <td>B00DR0PDNE</td>\n",
       "      <td>5.0</td>\n",
       "    </tr>\n",
       "    <tr>\n",
       "      <th>7448718</th>\n",
       "      <td>B00DR0PDNE</td>\n",
       "      <td>5.0</td>\n",
       "    </tr>\n",
       "    <tr>\n",
       "      <th>7448719</th>\n",
       "      <td>B00DR0PDNE</td>\n",
       "      <td>4.0</td>\n",
       "    </tr>\n",
       "    <tr>\n",
       "      <th>7448720</th>\n",
       "      <td>B00DR0PDNE</td>\n",
       "      <td>5.0</td>\n",
       "    </tr>\n",
       "    <tr>\n",
       "      <th>7448721</th>\n",
       "      <td>B00DR0PDNE</td>\n",
       "      <td>3.0</td>\n",
       "    </tr>\n",
       "  </tbody>\n",
       "</table>\n",
       "<p>124491 rows × 2 columns</p>\n",
       "</div>"
      ],
      "text/plain": [
       "          productId  Rating\n",
       "483804   B0002L5R78     5.0\n",
       "483805   B0002L5R78     5.0\n",
       "483806   B0002L5R78     5.0\n",
       "483807   B0002L5R78     3.0\n",
       "483808   B0002L5R78     5.0\n",
       "...             ...     ...\n",
       "7448717  B00DR0PDNE     5.0\n",
       "7448718  B00DR0PDNE     5.0\n",
       "7448719  B00DR0PDNE     4.0\n",
       "7448720  B00DR0PDNE     5.0\n",
       "7448721  B00DR0PDNE     3.0\n",
       "\n",
       "[124491 rows x 2 columns]"
      ]
     },
     "execution_count": 30,
     "metadata": {},
     "output_type": "execute_result"
    }
   ],
   "source": [
    "#Extracting out all the rows that contain the top 10 productIds\n",
    "sub_df1 = df[['productId', 'Rating']]\n",
    "top_pdts1 = sub_df1.query('productId in @popularity_final')\n",
    "top_pdts1"
   ]
  },
  {
   "cell_type": "code",
   "execution_count": 31,
   "id": "fa3c1c89",
   "metadata": {},
   "outputs": [
    {
     "data": {
      "image/png": "[encoded data removed]",
      "text/plain": [
       "<Figure size 576x432 with 1 Axes>"
      ]
     },
     "metadata": {
      "needs_background": "light"
     },
     "output_type": "display_data"
    }
   ],
   "source": [
    "# Set the size of the plot\n",
    "plt.figure(figsize=(8, 6))\n",
    "\n",
    "sb.countplot(data=top_pdts1, y='productId')\n",
    "\n",
    "# Add a title and adjust its size\n",
    "plt.title('Number of Ratings for the Top 10 Products')\n",
    "\n",
    "plt.show()"
   ]
  },
  {
   "cell_type": "markdown",
   "id": "316584e7",
   "metadata": {},
   "source": [
    "### Analysis of Popularity Based Recommendation\n",
    "\n",
    "\n",
    "Although this might be a straightforward approach, it however is a very black-and-white sort of approach that does not take into account the intricate nuances of the market and of the domain. \n",
    "\n",
    "In addition, a product can have the highest number of ratings, however, all or majority of the ratings can be negative reveiews. This would defeat the objective of recommending the best products to the users and in turn result in a lower customer satisfaction.\n",
    "\n",
    "Hence, a better approach to this would be a **Hybrid Approach** where we can find the products with the highest number of ratings and from that list, we can then return the products that have the highest ratings. "
   ]
  },
  {
   "cell_type": "markdown",
   "id": "3aeb14db",
   "metadata": {},
   "source": [
    "## Hybrid Approach #1 - Popularity Based ( # of Ratings) + Highest Average Rating"
   ]
  },
  {
   "cell_type": "markdown",
   "id": "f019f955",
   "metadata": {},
   "source": [
    "### Visualising the Distribution of the Ratings"
   ]
  },
  {
   "cell_type": "code",
   "execution_count": 32,
   "id": "c7e8326e",
   "metadata": {},
   "outputs": [],
   "source": [
    "#Converting the df into dictionaries\n",
    "ratings_dict = {}\n",
    "\n",
    "for product in popularity_final:\n",
    "    l1 = top_pdts1.query('productId == @product')['Rating'].tolist()\n",
    "    ratings_dict[product] = l1"
   ]
  },
  {
   "cell_type": "code",
   "execution_count": 33,
   "id": "90651b76",
   "metadata": {},
   "outputs": [
    {
     "data": {
      "image/png": "[encoded data removed]",
      "text/plain": [
       "<Figure size 1152x432 with 10 Axes>"
      ]
     },
     "metadata": {
      "needs_background": "light"
     },
     "output_type": "display_data"
    }
   ],
   "source": [
    "#Viualising the distribution of each of the 10 products\n",
    "# Create a figure with subplots\n",
    "fig, axs = plt.subplots(nrows=2, ncols=len(ratings_dict)//2, figsize=(16, 6))\n",
    "\n",
    "# Plot histograms for each product\n",
    "i, j = 0, 0\n",
    "\n",
    "for product, ratings in ratings_dict.items():\n",
    "    axs[i,j].set_title(f\"{product} - {len(ratings)}\")\n",
    "    sb.distplot(ratings, ax=axs[i,j], bins=5, kde=True)\n",
    "    axs[i,j].set_xticks([1, 2, 3, 4, 5])\n",
    "    \n",
    "    if j == (len(ratings_dict)//2) - 1:\n",
    "        j = 0\n",
    "        i += 1\n",
    "    else:\n",
    "        j += 1\n",
    "\n",
    "# Adjust layout\n",
    "plt.tight_layout()\n",
    "\n",
    "# Show the plot\n",
    "plt.show()"
   ]
  },
  {
   "cell_type": "markdown",
   "id": "27ad0cba",
   "metadata": {},
   "source": [
    "The above plots show the distributions of the top 10 products with the highest review. The title contains the Product ID as well as the Number of Ratings that that particular product got. \n",
    "\n",
    "This case is the best case, where most of the ratings of the top 10 most popular products are positive. \n",
    "\n",
    "Therefore, we need to calculate the average ratings of each of these products"
   ]
  },
  {
   "cell_type": "markdown",
   "id": "dbf60f39",
   "metadata": {},
   "source": [
    "### Calculating the Average Rating of Each of the Top 10 Products"
   ]
  },
  {
   "cell_type": "code",
   "execution_count": 34,
   "id": "5c44d049",
   "metadata": {},
   "outputs": [
    {
     "data": {
      "text/html": [
       "<div>\n",
       "<style scoped>\n",
       "    .dataframe tbody tr th:only-of-type {\n",
       "        vertical-align: middle;\n",
       "    }\n",
       "\n",
       "    .dataframe tbody tr th {\n",
       "        vertical-align: top;\n",
       "    }\n",
       "\n",
       "    .dataframe thead th {\n",
       "        text-align: right;\n",
       "    }\n",
       "</style>\n",
       "<table border=\"1\" class=\"dataframe\">\n",
       "  <thead>\n",
       "    <tr style=\"text-align: right;\">\n",
       "      <th></th>\n",
       "      <th>Rating</th>\n",
       "    </tr>\n",
       "    <tr>\n",
       "      <th>productId</th>\n",
       "      <th></th>\n",
       "    </tr>\n",
       "  </thead>\n",
       "  <tbody>\n",
       "    <tr>\n",
       "      <th>B0002L5R78</th>\n",
       "      <td>4.448614</td>\n",
       "    </tr>\n",
       "    <tr>\n",
       "      <th>B0019EHU8G</th>\n",
       "      <td>4.754497</td>\n",
       "    </tr>\n",
       "    <tr>\n",
       "      <th>B003ELYQGG</th>\n",
       "      <td>4.392528</td>\n",
       "    </tr>\n",
       "    <tr>\n",
       "      <th>B003ES5ZUU</th>\n",
       "      <td>4.704749</td>\n",
       "    </tr>\n",
       "    <tr>\n",
       "      <th>B00622AG6S</th>\n",
       "      <td>4.420136</td>\n",
       "    </tr>\n",
       "    <tr>\n",
       "      <th>B006GWO5WK</th>\n",
       "      <td>4.314657</td>\n",
       "    </tr>\n",
       "    <tr>\n",
       "      <th>B0074BW614</th>\n",
       "      <td>4.491504</td>\n",
       "    </tr>\n",
       "    <tr>\n",
       "      <th>B007R5YDYA</th>\n",
       "      <td>4.690926</td>\n",
       "    </tr>\n",
       "    <tr>\n",
       "      <th>B007WTAJTO</th>\n",
       "      <td>4.424005</td>\n",
       "    </tr>\n",
       "    <tr>\n",
       "      <th>B00DR0PDNE</th>\n",
       "      <td>3.931020</td>\n",
       "    </tr>\n",
       "  </tbody>\n",
       "</table>\n",
       "</div>"
      ],
      "text/plain": [
       "              Rating\n",
       "productId           \n",
       "B0002L5R78  4.448614\n",
       "B0019EHU8G  4.754497\n",
       "B003ELYQGG  4.392528\n",
       "B003ES5ZUU  4.704749\n",
       "B00622AG6S  4.420136\n",
       "B006GWO5WK  4.314657\n",
       "B0074BW614  4.491504\n",
       "B007R5YDYA  4.690926\n",
       "B007WTAJTO  4.424005\n",
       "B00DR0PDNE  3.931020"
      ]
     },
     "execution_count": 34,
     "metadata": {},
     "output_type": "execute_result"
    }
   ],
   "source": [
    "avg_rating_top10 = top_pdts1.groupby(['productId']).mean()\n",
    "avg_rating_top10"
   ]
  },
  {
   "cell_type": "markdown",
   "id": "95033bad",
   "metadata": {},
   "source": [
    "One option is to recommend the top 3 products from the top 10 list. The other option would be to recommend all the 10 prodcuts in the order of Highest Rating to Lowest Rating, to make it easy for the customer."
   ]
  },
  {
   "cell_type": "markdown",
   "id": "84a00766",
   "metadata": {},
   "source": [
    "### Arranging the Top 10 Products in Descending Order of Rating"
   ]
  },
  {
   "cell_type": "code",
   "execution_count": 35,
   "id": "ec79481e",
   "metadata": {},
   "outputs": [
    {
     "data": {
      "text/plain": [
       "{'Rating': {'B0002L5R78': 4.448613892695267,\n",
       "  'B0019EHU8G': 4.754497354497355,\n",
       "  'B003ELYQGG': 4.392528191443574,\n",
       "  'B003ES5ZUU': 4.70474892954457,\n",
       "  'B00622AG6S': 4.4201364145373105,\n",
       "  'B006GWO5WK': 4.314657287747424,\n",
       "  'B0074BW614': 4.491504056128042,\n",
       "  'B007R5YDYA': 4.690925608155849,\n",
       "  'B007WTAJTO': 4.424005080440304,\n",
       "  'B00DR0PDNE': 3.9310198128114746}}"
      ]
     },
     "execution_count": 35,
     "metadata": {},
     "output_type": "execute_result"
    }
   ],
   "source": [
    "avg_rating = avg_rating_top10.to_dict()\n",
    "avg_rating"
   ]
  },
  {
   "cell_type": "code",
   "execution_count": 36,
   "id": "55bf0e77",
   "metadata": {},
   "outputs": [
    {
     "data": {
      "text/plain": [
       "['B0019EHU8G',\n",
       " 'B003ES5ZUU',\n",
       " 'B007R5YDYA',\n",
       " 'B0074BW614',\n",
       " 'B0002L5R78',\n",
       " 'B007WTAJTO',\n",
       " 'B00622AG6S',\n",
       " 'B003ELYQGG',\n",
       " 'B006GWO5WK',\n",
       " 'B00DR0PDNE']"
      ]
     },
     "execution_count": 36,
     "metadata": {},
     "output_type": "execute_result"
    }
   ],
   "source": [
    "avg_rating = dict((v,k) for k,v in avg_rating['Rating'].items())\n",
    "\n",
    "products = list(avg_rating.values())\n",
    "avg_ratings = list(avg_rating.keys())\n",
    "\n",
    "avg_ratings.sort(reverse=True)\n",
    "\n",
    "hybrid1_top10_final = []\n",
    "\n",
    "for rating in avg_ratings:\n",
    "    hybrid1_top10_final.append(avg_rating[rating])\n",
    "    \n",
    "hybrid1_top10_final"
   ]
  },
  {
   "cell_type": "markdown",
   "id": "83acea0b",
   "metadata": {},
   "source": [
    "### Recommending only the Top 3 Products from this List"
   ]
  },
  {
   "cell_type": "code",
   "execution_count": 37,
   "id": "fb656ce5",
   "metadata": {},
   "outputs": [
    {
     "data": {
      "text/plain": [
       "['B0019EHU8G', 'B003ES5ZUU', 'B007R5YDYA']"
      ]
     },
     "execution_count": 37,
     "metadata": {},
     "output_type": "execute_result"
    }
   ],
   "source": [
    "hybrid1_top10_final[:3]"
   ]
  },
  {
   "cell_type": "code",
   "execution_count": 39,
   "id": "9fc26cf5",
   "metadata": {},
   "outputs": [],
   "source": [
    "#Saving to CSV \n",
    "final_csv = pd.DataFrame(popularity_final, columns=['popularity_final'])\n",
    "final_csv\n",
    "\n",
    "top_pdts1.to_csv('top_pdts1.csv')"
   ]
  }
 ],
 "metadata": {
  "kernelspec": {
   "display_name": "Python 3 (ipykernel)",
   "language": "python",
   "name": "python3"
  },
  "language_info": {
   "codemirror_mode": {
    "name": "ipython",
    "version": 3
   },
   "file_extension": ".py",
   "mimetype": "text/x-python",
   "name": "python",
   "nbconvert_exporter": "python",
   "pygments_lexer": "ipython3",
   "version": "3.9.13"
  }
 },
 "nbformat": 4,
 "nbformat_minor": 5
}
